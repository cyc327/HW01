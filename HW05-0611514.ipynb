{
 "cells": [
  {
   "cell_type": "code",
   "execution_count": 1,
   "id": "defined-abraham",
   "metadata": {},
   "outputs": [],
   "source": [
    "import numpy as np\n",
    "import matplotlib.pyplot as plt\n",
    "import cv2"
   ]
  },
  {
   "cell_type": "code",
   "execution_count": 37,
   "id": "fancy-affiliate",
   "metadata": {
    "scrolled": true
   },
   "outputs": [
    {
     "data": {
      "image/png": "[encoded data removed]",
      "text/plain": [
       "<Figure size 432x288 with 1 Axes>"
      ]
     },
     "metadata": {
      "needs_background": "light"
     },
     "output_type": "display_data"
    }
   ],
   "source": [
    "img = np.array([[1,1,1,1,1,1,1,1,1,1],\n",
    "          [1,0,0,0,0,1,1,1,0,0],\n",
    "          [1,1,0,0,0,1,0,0,0,0],\n",
    "          [1,1,0,0,1,1,0,0,0,0],\n",
    "          [1,0,0,0,1,1,0,0,0,1],\n",
    "          [1,1,1,1,1,1,1,1,0,1],\n",
    "          [1,1,1,0,0,0,1,1,0,1],\n",
    "          [1,1,1,0,0,0,0,1,1,1],\n",
    "          [1,1,1,0,0,0,0,1,1,1],\n",
    "          [1,1,1,1,1,1,0,1,1,1]], dtype = 'int32'\n",
    "         )\n",
    "img *= 255\n",
    "fig = plt.figure()\n",
    "plt.imshow(img, cmap = \"gray\")\n",
    "plt.xticks(np.arange(-0.5,10.5,1))\n",
    "plt.yticks(np.arange(-0.5,10.5,1))\n",
    "plt.tick_params(bottom=False, left=False)\n",
    "ax = plt.gca()\n",
    "ax.axes.xaxis.set_ticklabels([])\n",
    "ax.axes.yaxis.set_ticklabels([])\n",
    "plt.grid(True, linewidth = 1.5, color = 'k')\n",
    "#fig.savefig('seg0101.jpg')"
   ]
  },
  {
   "cell_type": "code",
   "execution_count": 38,
   "id": "yellow-thirty",
   "metadata": {},
   "outputs": [
    {
     "data": {
      "text/plain": [
       "(288, 432)"
      ]
     },
     "execution_count": 38,
     "metadata": {},
     "output_type": "execute_result"
    }
   ],
   "source": [
    "img = cv2.imread('seg0101.jpg',0)\n",
    "img.shape"
   ]
  },
  {
   "cell_type": "code",
   "execution_count": 39,
   "id": "frank-madison",
   "metadata": {},
   "outputs": [],
   "source": [
    "img = cv2.imread('seg0101.jpg',0)\n",
    "x = 112\n",
    "y = 34\n",
    "\n",
    "w = 220\n",
    "h = 220\n",
    "\n",
    "crop_img = img[y:y+h, x:x+w]\n",
    "#cv2.imwrite('seg0101_crop.jpg',crop_img)\n",
    "cv2.imshow('crop_image',crop_img)\n",
    "cv2.waitKey()\n",
    "cv2.destroyAllWindows()"
   ]
  },
  {
   "cell_type": "code",
   "execution_count": 9,
   "id": "valuable-necklace",
   "metadata": {},
   "outputs": [
    {
     "name": "stdout",
     "output_type": "stream",
     "text": [
      "Size:  12\n",
      "Size:  15\n",
      "Size:  12\n"
     ]
    }
   ],
   "source": [
    "import numpy as np\n",
    "import cv2\n",
    "import matplotlib.pyplot as plt\n",
    "\n",
    "class Point(object):\n",
    "    def __init__(self,x,y):\n",
    "        self.x = x\n",
    "        self.y = y\n",
    "\n",
    "def getGrayDiff(img,currentPoint,tmpPoint):\n",
    "    return abs(int(img[currentPoint.x,currentPoint.y]) - int(img[tmpPoint.x,tmpPoint.y]))\n",
    "\n",
    "def count_size(seedMark):\n",
    "    size = 0\n",
    "    for i in range(seedMark.shape[0]):\n",
    "        for j in range(seedMark.shape[1]):\n",
    "            if seedMark[i][j] == 0:\n",
    "                size += 1 \n",
    "    print(\"Size: \", round(size/484))\n",
    "    return size\n",
    "\n",
    "def regionWork(thresh,seedMark,seedList):\n",
    "    global InterMark\n",
    "    InterMark = np.ones(img.shape)*255\n",
    "    height, weight = img.shape\n",
    "    label = 0\n",
    "    connects = [ Point(0, -1), Point(1, 0),Point(0, 1), Point(-1, 0)]\n",
    "    while(len(seedList)>0):        \n",
    "        currentPoint = seedList.pop(0)\n",
    "        InterMark[currentPoint.x,currentPoint.y] = label\n",
    "        seedMark[currentPoint.x,currentPoint.y] = label\n",
    "        for i in range(4):\n",
    "            tmpX = currentPoint.x + connects[i].x\n",
    "            tmpY = currentPoint.y + connects[i].y\n",
    "            if tmpX < 0 or tmpY < 0 or tmpX >= height or tmpY >= weight:\n",
    "                continue\n",
    "            grayDiff = getGrayDiff(img,currentPoint,Point(tmpX,tmpY))\n",
    "            if grayDiff < thresh and seedMark[tmpX,tmpY] == 255:\n",
    "                InterMark[tmpX,tmpY] = label\n",
    "                seedMark[tmpX,tmpY] = label\n",
    "                seedList.append(Point(tmpX,tmpY))\n",
    "    size = count_size(InterMark)\n",
    "    cv2.imshow('Sliced',InterMark)\n",
    "    cv2.waitKey(0)\n",
    "    return seedMark\n",
    "    \n",
    "def regionGrow(img,seeds):    \n",
    "    seedMark = np.ones(img.shape)*255\n",
    "    seedList = []\n",
    "    for seed in seeds:\n",
    "        seedList.append(seed)             \n",
    "        seedMark = regionWork(10,seedMark,seedList)                \n",
    "    return seedMark\n",
    "\n",
    "\n",
    "img = cv2.imread('seg0101_crop.jpg',0)\n",
    "seeds = [Point(30,30),Point(150,180),Point(150,100)]\n",
    "FinalImg = regionGrow(img,seeds)\n",
    "cv2.imshow('Final',FinalImg)\n",
    "cv2.waitKey(0)\n",
    "cv2.destroyAllWindows()"
   ]
  },
  {
   "cell_type": "code",
   "execution_count": null,
   "id": "dramatic-sympathy",
   "metadata": {},
   "outputs": [],
   "source": []
  }
 ],
 "metadata": {
  "kernelspec": {
   "display_name": "Python 3",
   "language": "python",
   "name": "python3"
  },
  "language_info": {
   "codemirror_mode": {
    "name": "ipython",
    "version": 3
   },
   "file_extension": ".py",
   "mimetype": "text/x-python",
   "name": "python",
   "nbconvert_exporter": "python",
   "pygments_lexer": "ipython3",
   "version": "3.8.8"
  }
 },
 "nbformat": 4,
 "nbformat_minor": 5
}
