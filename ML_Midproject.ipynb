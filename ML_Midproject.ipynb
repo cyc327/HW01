{
 "cells": [
  {
   "cell_type": "code",
   "execution_count": 18,
   "id": "bizarre-flush",
   "metadata": {},
   "outputs": [
    {
     "name": "stdout",
     "output_type": "stream",
     "text": [
      "113.807 252.338\n",
      "15.318 131.4\n",
      "0.681 1.213\n",
      "4.304 19.805\n",
      "62.347 489.455\n",
      "60.321 568.425\n",
      "124.256 361.11\n",
      "16.739 58.204\n",
      "130.733 64.208\n",
      "235.623 684.761\n",
      "0.002 0.431\n",
      "283.735 681.942\n",
      "0.045 0.066\n",
      "2.825 58.14\n",
      "207.909 560.946\n",
      "6.319 94.337\n",
      "12.895 82.542\n",
      "18.744 56.499\n",
      "67.759 373.047\n",
      "64.504 40.866\n"
     ]
    }
   ],
   "source": [
    "import math\n",
    "import random\n",
    "for i in range(20):\n",
    "    velocity = random.randint(0,100)\n",
    "    angle = random.randint(0,91)*math.pi/180\n",
    "    xi = velocity*math.cos(angle)\n",
    "    yi = velocity*math.sin(angle)\n",
    "    H = (velocity**2)*(math.sin(angle)**2)/(2*9.8)\n",
    "    R = (velocity**2)*(math.sin(angle*2))/9.8\n",
    "    print(round(H,3), round(R,3))"
   ]
  },
  {
   "cell_type": "code",
   "execution_count": null,
   "id": "hired-mileage",
   "metadata": {},
   "outputs": [],
   "source": []
  }
 ],
 "metadata": {
  "kernelspec": {
   "display_name": "Python 3",
   "language": "python",
   "name": "python3"
  },
  "language_info": {
   "codemirror_mode": {
    "name": "ipython",
    "version": 3
   },
   "file_extension": ".py",
   "mimetype": "text/x-python",
   "name": "python",
   "nbconvert_exporter": "python",
   "pygments_lexer": "ipython3",
   "version": "3.8.8"
  }
 },
 "nbformat": 4,
 "nbformat_minor": 5
}
